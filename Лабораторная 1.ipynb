{
 "cells": [
  {
   "cell_type": "code",
   "execution_count": 110,
   "id": "1ddc5fe3",
   "metadata": {},
   "outputs": [],
   "source": [
    "from collections import Counter\n",
    "import math\n",
    "import matplotlib.pyplot as plt\n",
    "import numpy as np"
   ]
  },
  {
   "cell_type": "code",
   "execution_count": 38,
   "id": "417e4e61",
   "metadata": {},
   "outputs": [],
   "source": [
    "data=[]\n",
    "#чтение файла в переменную data\n",
    "with open(r'C:\\Users\\Алина\\Desktop\\Москва_2021.txt') as f:\n",
    "    while True:\n",
    "        line=f.readline()\n",
    "        if not line:\n",
    "            break\n",
    "        data.append(int(line.rstrip()))"
   ]
  },
  {
   "cell_type": "code",
   "execution_count": 531,
   "id": "ad14d825",
   "metadata": {},
   "outputs": [
    {
     "name": "stdout",
     "output_type": "stream",
     "text": [
      "Выборочное среднне = 35.37300681614903\n",
      "Дисперсия = 144.91696806481494\n",
      "Среднее квадратическое отклонение = 12.038146371631097\n",
      "Коэффициент вариации = 34.03201326423644\n",
      "Мода = 29 , ее частота = 1340\n",
      "Медиана = 34\n",
      "Максимальное значение = 73 Минимальное значение = 14\n",
      "Размах = 59\n"
     ]
    }
   ],
   "source": [
    "#дискретный ряд распределения\n",
    "discrete=Counter(sorted(data))\n",
    "\n",
    "#выборочная средняя\n",
    "summ = 0\n",
    "for key,val in discrete.items():\n",
    "    summ+=key*val\n",
    "discr_mean = summ/len(data)\n",
    "\n",
    "#Дисперсия\n",
    "kv_summ = 0\n",
    "for key,val in discrete.items():\n",
    "    kv_summ+=((key-discr_mean)**2)*val\n",
    "discr_disp = kv_summ/len(data)\n",
    "\n",
    "#Среднее квадратическое отклонение\n",
    "discr_sko = math.sqrt(discr_disp)\n",
    "\n",
    "#Коэффициент вариации\n",
    "discr_v = discr_sko/discr_mean*100\n",
    "\n",
    "#Мода и ее частота\n",
    "a=max(discrete.items(), key=lambda k: k[1])\n",
    "moda=a[0]\n",
    "freq=a[1]\n",
    "\n",
    "#Медиана\n",
    "index=len(data)//2\n",
    "disc_median = data[index+1]\n",
    "\n",
    "#Минимальное и максимальное значения\n",
    "disc_max = max(discrete)\n",
    "disc_min = min(discrete)\n",
    "\n",
    "#Размах\n",
    "discr_R = disc_max-disc_min\n",
    "\n",
    "\n",
    "print('Выборочное среднне =',discr_mean)\n",
    "print('Дисперсия =',discr_disp)\n",
    "print('Среднее квадратическое отклонение =',discr_sko)\n",
    "print('Коэффициент вариации =',discr_v)\n",
    "print('Мода =',moda, ',','ее частота =',freq)\n",
    "print('Медиана =',disc_median)\n",
    "print('Максимальное значение =',disc_max,'Минимальное значение =',disc_min)\n",
    "print('Размах =',discr_R)"
   ]
  },
  {
   "cell_type": "code",
   "execution_count": 483,
   "id": "f131253a",
   "metadata": {},
   "outputs": [
    {
     "data": {
      "image/png": "[encoded data removed]",
      "text/plain": [
       "<Figure size 432x288 with 1 Axes>"
      ]
     },
     "metadata": {
      "needs_background": "light"
     },
     "output_type": "display_data"
    }
   ],
   "source": [
    "#Полигон частот\n",
    "plt.plot(np.array(list(discrete.keys())),np.array(list(discrete.values())))\n",
    "plt.xlabel('Возраст')\n",
    "plt.ylabel('Частота')\n",
    "plt.grid(True)\n",
    "plt.show()\n",
    "\n",
    "#plt.figure(figsize=(11, 7))\n",
    "#plt.plot(discrete.keys(),discrete.values())\n",
    "#plt.show()"
   ]
  },
  {
   "cell_type": "code",
   "execution_count": 555,
   "id": "5841fc38",
   "metadata": {},
   "outputs": [],
   "source": [
    "#Интервальный ряд распределения\n",
    "m = int(np.ceil(1+3.322*math.log10(59))) #число интервалов (7)\n",
    "h = int(np.ceil((max(data)-min(data))/m)) #длина интервала (9)\n"
   ]
  },
  {
   "cell_type": "code",
   "execution_count": 556,
   "id": "7c9a678b",
   "metadata": {},
   "outputs": [
    {
     "name": "stdout",
     "output_type": "stream",
     "text": [
      "(14, 23) : 4811\n",
      "(23, 32) : 9476\n",
      "(32, 41) : 7243\n",
      "(41, 50) : 7951\n",
      "(50, 59) : 1140\n",
      "(59, 68) : 1472\n",
      "(68, 77) : 330\n",
      "\n",
      "Выборочная средняя = 35.630894735218824\n",
      "Дисперсия = 148.53617748955162\n",
      "Среднее квадратическое отклонени = 12.187541896935231\n",
      "Коэффициент вариации = 34.20498415070289\n",
      "Мода = 29.086546825166714\n",
      "Медиана = 34.39134336600856\n",
      "Максимальное значение = 73 Минимальное значение = 14\n",
      "Размах = 59\n"
     ]
    }
   ],
   "source": [
    "interv1=Counter(sorted(data))\n",
    "intervals = []\n",
    "freqs = []\n",
    "for i in range(m):\n",
    "    lower = min(interv1)+h*i\n",
    "    upper = lower+h\n",
    "    intervals.append((lower,upper))\n",
    "    summa = 0\n",
    "    for j in range(h):\n",
    "        if lower+j in interv1:\n",
    "            summa+=interv1[lower+j]\n",
    "    freqs.append(summa)\n",
    "    \n",
    "#интервальный ряд\n",
    "interv = dict(zip(intervals,freqs))\n",
    "for key,val in interv.items():\n",
    "    print(f'{key} : {val}')\n",
    "\n",
    "#Выборочное среднее\n",
    "summa = 0\n",
    "for key,val in interv.items():\n",
    "    summa+=((key[0]+key[1])/2)*val\n",
    "interv_mean = summa/len(data)\n",
    "\n",
    "#Дисперсия\n",
    "summa = 0\n",
    "for key,val in interv.items():\n",
    "    summa+=(((key[0]+key[1])/2-interv_mean)**2)*val\n",
    "interv_disp = summa/len(data)\n",
    "\n",
    "#Среднее квадратическое отклонение\n",
    "interv_sko = math.sqrt(interv_disp)\n",
    "\n",
    "#Коэффициент вариации\n",
    "interv_v = interv_sko/interv_mean*100\n",
    "\n",
    "#Мода\n",
    "a=max(interv.items(), key=lambda k: k[1])\n",
    "mod_interval = a[0]\n",
    "mod_freq = a[1]\n",
    "interv_moda = mod_interval[0]+h*((mod_freq-4811)/((mod_freq-4811)+mod_freq-7243))\n",
    "\n",
    "#Медиана\n",
    "summa = 0 #накопленные частоты\n",
    "mid = len(data)/2\n",
    "for key,val in interv.items():\n",
    "    summa+=val\n",
    "    if summa>mid:\n",
    "        med_interval = key #медианный интервал\n",
    "        med_freq = val #частота медианного интервала\n",
    "        break\n",
    "interv_med = med_interval[0]+h*((len(data)/2-(summa-med_freq))/med_freq)\n",
    "\n",
    "#Максимальное и минимальное значения\n",
    "interv_min = list(interv1.keys())[0]\n",
    "interv_max = list(interv1.keys())[-1]\n",
    "\n",
    "#Размах\n",
    "interv_r = interv_max -interv_min\n",
    "\n",
    "\n",
    "print()\n",
    "print('Выборочная средняя =', interv_mean)\n",
    "print('Дисперсия =',interv_disp)\n",
    "print('Среднее квадратическое отклонени =', interv_sko)\n",
    "print('Коэффициент вариации =',interv_v)\n",
    "print('Мода =',interv_moda)  \n",
    "print('Медиана =', interv_med)\n",
    "print('Максимальное значение =', interv_max,'Минимальное значение =', interv_min)\n",
    "print('Размах =', interv_r)"
   ]
  },
  {
   "cell_type": "code",
   "execution_count": 557,
   "id": "1affd629",
   "metadata": {},
   "outputs": [
    {
     "data": {
      "text/plain": [
       "<matplotlib.patches.StepPatch at 0x1b30e8b3850>"
      ]
     },
     "execution_count": 557,
     "metadata": {},
     "output_type": "execute_result"
    },
    {
     "data": {
      "image/png": "[encoded data removed]",
      "text/plain": [
       "<Figure size 432x288 with 1 Axes>"
      ]
     },
     "metadata": {
      "needs_background": "light"
     },
     "output_type": "display_data"
    }
   ],
   "source": [
    "l = [i[0] for i in list(interv.keys())]\n",
    "l.append(list(interv.keys())[-1][1])\n",
    "plt.stairs(list(interv.values()),l,fill=True,)"
   ]
  },
  {
   "cell_type": "code",
   "execution_count": null,
   "id": "a9300753",
   "metadata": {},
   "outputs": [],
   "source": []
  }
 ],
 "metadata": {
  "kernelspec": {
   "display_name": "Python 3 (ipykernel)",
   "language": "python",
   "name": "python3"
  },
  "language_info": {
   "codemirror_mode": {
    "name": "ipython",
    "version": 3
   },
   "file_extension": ".py",
   "mimetype": "text/x-python",
   "name": "python",
   "nbconvert_exporter": "python",
   "pygments_lexer": "ipython3",
   "version": "3.9.12"
  }
 },
 "nbformat": 4,
 "nbformat_minor": 5
}
